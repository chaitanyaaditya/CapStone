{
  "cells": [
    {
      "cell_type": "markdown",
      "metadata": {
        "id": "view-in-github",
        "colab_type": "text"
      },
      "source": [
        "<a href=\"https://colab.research.google.com/github/chaitanyaaditya/CapStone/blob/CapStone2/CapStoneProject2.ipynb\" target=\"_parent\"><img src=\"https://colab.research.google.com/assets/colab-badge.svg\" alt=\"Open In Colab\"/></a>"
      ]
    },
    {
      "cell_type": "markdown",
      "id": "ee0ea00f",
      "metadata": {
        "id": "ee0ea00f"
      },
      "source": [
        "## Importing necessary libraries"
      ]
    },
    {
      "cell_type": "code",
      "execution_count": null,
      "id": "91d1a21b",
      "metadata": {
        "id": "91d1a21b"
      },
      "outputs": [],
      "source": [
        "## Data Manipulation & Handling & Vizualisation\n",
        "import pandas as pd\n",
        "import numpy as np\n",
        "import matplotlib.pyplot as plt\n",
        "\n",
        "## NMF\n",
        "from sklearn.decomposition import NMF\n",
        "\n",
        "#Warning Filter library\n",
        "import warnings\n",
        "warnings.filterwarnings(\"ignore\")"
      ]
    },
    {
      "cell_type": "markdown",
      "id": "ad06b640",
      "metadata": {
        "id": "ad06b640"
      },
      "source": [
        "## Loading the dataset"
      ]
    },
    {
      "cell_type": "code",
      "execution_count": null,
      "id": "eedd4988",
      "metadata": {
        "id": "eedd4988"
      },
      "outputs": [],
      "source": [
        "df = pd.read_csv('spotify.xls', index_col=0)"
      ]
    },
    {
      "cell_type": "code",
      "execution_count": null,
      "id": "e815331f",
      "metadata": {
        "id": "e815331f",
        "outputId": "b67c095c-5818-406b-f4a8-79b1861af748"
      },
      "outputs": [
        {
          "data": {
            "text/html": [
              "<div>\n",
              "<style scoped>\n",
              "    .dataframe tbody tr th:only-of-type {\n",
              "        vertical-align: middle;\n",
              "    }\n",
              "\n",
              "    .dataframe tbody tr th {\n",
              "        vertical-align: top;\n",
              "    }\n",
              "\n",
              "    .dataframe thead th {\n",
              "        text-align: right;\n",
              "    }\n",
              "</style>\n",
              "<table border=\"1\" class=\"dataframe\">\n",
              "  <thead>\n",
              "    <tr style=\"text-align: right;\">\n",
              "      <th></th>\n",
              "      <th>song_1</th>\n",
              "      <th>song_2</th>\n",
              "      <th>song_3</th>\n",
              "      <th>song_4</th>\n",
              "      <th>song_5</th>\n",
              "      <th>song_6</th>\n",
              "      <th>song_7</th>\n",
              "      <th>song_8</th>\n",
              "      <th>song_9</th>\n",
              "      <th>song_10</th>\n",
              "      <th>...</th>\n",
              "      <th>song_4991</th>\n",
              "      <th>song_4992</th>\n",
              "      <th>song_4993</th>\n",
              "      <th>song_4994</th>\n",
              "      <th>song_4995</th>\n",
              "      <th>song_4996</th>\n",
              "      <th>song_4997</th>\n",
              "      <th>song_4998</th>\n",
              "      <th>song_4999</th>\n",
              "      <th>song_5000</th>\n",
              "    </tr>\n",
              "  </thead>\n",
              "  <tbody>\n",
              "    <tr>\n",
              "      <th>user_1</th>\n",
              "      <td>2</td>\n",
              "      <td>2</td>\n",
              "      <td>8</td>\n",
              "      <td>8</td>\n",
              "      <td>13</td>\n",
              "      <td>1</td>\n",
              "      <td>4</td>\n",
              "      <td>9</td>\n",
              "      <td>1</td>\n",
              "      <td>2</td>\n",
              "      <td>...</td>\n",
              "      <td>14</td>\n",
              "      <td>2</td>\n",
              "      <td>14</td>\n",
              "      <td>1</td>\n",
              "      <td>9</td>\n",
              "      <td>0</td>\n",
              "      <td>11</td>\n",
              "      <td>6</td>\n",
              "      <td>14</td>\n",
              "      <td>7</td>\n",
              "    </tr>\n",
              "    <tr>\n",
              "      <th>user_2</th>\n",
              "      <td>13</td>\n",
              "      <td>5</td>\n",
              "      <td>5</td>\n",
              "      <td>5</td>\n",
              "      <td>12</td>\n",
              "      <td>8</td>\n",
              "      <td>10</td>\n",
              "      <td>10</td>\n",
              "      <td>2</td>\n",
              "      <td>2</td>\n",
              "      <td>...</td>\n",
              "      <td>10</td>\n",
              "      <td>6</td>\n",
              "      <td>11</td>\n",
              "      <td>1</td>\n",
              "      <td>1</td>\n",
              "      <td>5</td>\n",
              "      <td>12</td>\n",
              "      <td>8</td>\n",
              "      <td>3</td>\n",
              "      <td>0</td>\n",
              "    </tr>\n",
              "    <tr>\n",
              "      <th>user_3</th>\n",
              "      <td>3</td>\n",
              "      <td>9</td>\n",
              "      <td>2</td>\n",
              "      <td>8</td>\n",
              "      <td>0</td>\n",
              "      <td>1</td>\n",
              "      <td>11</td>\n",
              "      <td>7</td>\n",
              "      <td>3</td>\n",
              "      <td>7</td>\n",
              "      <td>...</td>\n",
              "      <td>9</td>\n",
              "      <td>5</td>\n",
              "      <td>7</td>\n",
              "      <td>15</td>\n",
              "      <td>12</td>\n",
              "      <td>13</td>\n",
              "      <td>14</td>\n",
              "      <td>5</td>\n",
              "      <td>0</td>\n",
              "      <td>14</td>\n",
              "    </tr>\n",
              "    <tr>\n",
              "      <th>user_4</th>\n",
              "      <td>2</td>\n",
              "      <td>6</td>\n",
              "      <td>7</td>\n",
              "      <td>8</td>\n",
              "      <td>14</td>\n",
              "      <td>0</td>\n",
              "      <td>12</td>\n",
              "      <td>7</td>\n",
              "      <td>8</td>\n",
              "      <td>1</td>\n",
              "      <td>...</td>\n",
              "      <td>9</td>\n",
              "      <td>15</td>\n",
              "      <td>9</td>\n",
              "      <td>14</td>\n",
              "      <td>10</td>\n",
              "      <td>6</td>\n",
              "      <td>11</td>\n",
              "      <td>13</td>\n",
              "      <td>6</td>\n",
              "      <td>0</td>\n",
              "    </tr>\n",
              "    <tr>\n",
              "      <th>user_5</th>\n",
              "      <td>11</td>\n",
              "      <td>12</td>\n",
              "      <td>8</td>\n",
              "      <td>6</td>\n",
              "      <td>13</td>\n",
              "      <td>7</td>\n",
              "      <td>0</td>\n",
              "      <td>7</td>\n",
              "      <td>3</td>\n",
              "      <td>13</td>\n",
              "      <td>...</td>\n",
              "      <td>12</td>\n",
              "      <td>14</td>\n",
              "      <td>11</td>\n",
              "      <td>11</td>\n",
              "      <td>11</td>\n",
              "      <td>7</td>\n",
              "      <td>3</td>\n",
              "      <td>6</td>\n",
              "      <td>11</td>\n",
              "      <td>7</td>\n",
              "    </tr>\n",
              "  </tbody>\n",
              "</table>\n",
              "<p>5 rows × 5000 columns</p>\n",
              "</div>"
            ],
            "text/plain": [
              "        song_1  song_2  song_3  song_4  song_5  song_6  song_7  song_8  \\\n",
              "user_1       2       2       8       8      13       1       4       9   \n",
              "user_2      13       5       5       5      12       8      10      10   \n",
              "user_3       3       9       2       8       0       1      11       7   \n",
              "user_4       2       6       7       8      14       0      12       7   \n",
              "user_5      11      12       8       6      13       7       0       7   \n",
              "\n",
              "        song_9  song_10  ...  song_4991  song_4992  song_4993  song_4994  \\\n",
              "user_1       1        2  ...         14          2         14          1   \n",
              "user_2       2        2  ...         10          6         11          1   \n",
              "user_3       3        7  ...          9          5          7         15   \n",
              "user_4       8        1  ...          9         15          9         14   \n",
              "user_5       3       13  ...         12         14         11         11   \n",
              "\n",
              "        song_4995  song_4996  song_4997  song_4998  song_4999  song_5000  \n",
              "user_1          9          0         11          6         14          7  \n",
              "user_2          1          5         12          8          3          0  \n",
              "user_3         12         13         14          5          0         14  \n",
              "user_4         10          6         11         13          6          0  \n",
              "user_5         11          7          3          6         11          7  \n",
              "\n",
              "[5 rows x 5000 columns]"
            ]
          },
          "execution_count": 3,
          "metadata": {},
          "output_type": "execute_result"
        }
      ],
      "source": [
        "df.head()"
      ]
    },
    {
      "cell_type": "code",
      "execution_count": null,
      "id": "27c59b0a",
      "metadata": {
        "id": "27c59b0a",
        "outputId": "9fb5bfe9-815c-412f-8dbc-19d2c0811778"
      },
      "outputs": [
        {
          "data": {
            "text/plain": [
              "(1000, 5000)"
            ]
          },
          "execution_count": 4,
          "metadata": {},
          "output_type": "execute_result"
        }
      ],
      "source": [
        "df.shape"
      ]
    },
    {
      "cell_type": "markdown",
      "id": "6b01d7f7",
      "metadata": {
        "id": "6b01d7f7"
      },
      "source": [
        "## Problem statement\n",
        "\n",
        "Build recommendation engine using user listening history"
      ]
    },
    {
      "cell_type": "code",
      "execution_count": null,
      "id": "791f3aaf",
      "metadata": {
        "id": "791f3aaf",
        "outputId": "72351270-aec5-4e4d-c04b-75f0ba879231"
      },
      "outputs": [
        {
          "data": {
            "text/plain": [
              "array([[ 2,  2,  8, ...,  6, 14,  7],\n",
              "       [13,  5,  5, ...,  8,  3,  0],\n",
              "       [ 3,  9,  2, ...,  5,  0, 14],\n",
              "       ...,\n",
              "       [ 6,  2,  1, ..., 13,  6, 13],\n",
              "       [ 7,  0,  8, ..., 11,  9, 12],\n",
              "       [ 6, 15,  0, ..., 15,  4,  5]], dtype=int64)"
            ]
          },
          "execution_count": 5,
          "metadata": {},
          "output_type": "execute_result"
        }
      ],
      "source": [
        "x = df.values\n",
        "x"
      ]
    },
    {
      "cell_type": "markdown",
      "id": "092e5a3b",
      "metadata": {
        "id": "092e5a3b"
      },
      "source": [
        "## NMF"
      ]
    },
    {
      "cell_type": "code",
      "execution_count": null,
      "id": "c8d9d7f5",
      "metadata": {
        "id": "c8d9d7f5"
      },
      "outputs": [],
      "source": [
        "nmf = NMF(n_components = 100, max_iter = 1000, random_state=3)"
      ]
    },
    {
      "cell_type": "code",
      "execution_count": null,
      "id": "79b06781",
      "metadata": {
        "id": "79b06781",
        "outputId": "ff67a089-cca3-4a27-f040-04a4a201c5f2"
      },
      "outputs": [
        {
          "data": {
            "text/plain": [
              "NMF(max_iter=1000, n_components=100, random_state=3)"
            ]
          },
          "execution_count": 15,
          "metadata": {},
          "output_type": "execute_result"
        }
      ],
      "source": [
        "nmf.fit(x)"
      ]
    },
    {
      "cell_type": "code",
      "execution_count": null,
      "id": "5c22a99f",
      "metadata": {
        "scrolled": true,
        "id": "5c22a99f"
      },
      "outputs": [],
      "source": [
        "user_matrix = nmf.transform(x)\n",
        "song_matrix = nmf.components_.T"
      ]
    },
    {
      "cell_type": "code",
      "execution_count": null,
      "id": "fb953723",
      "metadata": {
        "id": "fb953723",
        "outputId": "df08960f-fe27-4373-8a54-0b82323feac9"
      },
      "outputs": [
        {
          "data": {
            "text/plain": [
              "array([[1.59597279, 1.63144383, 0.        , ..., 0.        , 0.        ,\n",
              "        0.08842005],\n",
              "       [0.        , 1.37058116, 0.        , ..., 0.        , 0.        ,\n",
              "        0.        ],\n",
              "       [0.        , 0.        , 0.25150672, ..., 0.        , 0.        ,\n",
              "        0.        ],\n",
              "       ...,\n",
              "       [0.        , 0.        , 0.86093206, ..., 0.        , 2.91063979,\n",
              "        0.        ],\n",
              "       [0.89111106, 0.55775866, 5.28815626, ..., 1.14447002, 0.        ,\n",
              "        0.        ],\n",
              "       [0.11437224, 0.3810454 , 1.17187612, ..., 0.        , 0.        ,\n",
              "        0.        ]])"
            ]
          },
          "execution_count": 9,
          "metadata": {},
          "output_type": "execute_result"
        }
      ],
      "source": [
        "user_matrix"
      ]
    },
    {
      "cell_type": "code",
      "execution_count": null,
      "id": "dbe479e8",
      "metadata": {
        "id": "dbe479e8",
        "outputId": "6cc4c324-2968-42e2-e33d-04698302a323"
      },
      "outputs": [
        {
          "data": {
            "text/plain": [
              "(1000, 100)"
            ]
          },
          "execution_count": 10,
          "metadata": {},
          "output_type": "execute_result"
        }
      ],
      "source": [
        "user_matrix.shape"
      ]
    },
    {
      "cell_type": "code",
      "execution_count": null,
      "id": "6944ebab",
      "metadata": {
        "id": "6944ebab",
        "outputId": "78df59c2-fab8-4915-f51c-67ace1926471"
      },
      "outputs": [
        {
          "data": {
            "text/plain": [
              "(5000, 100)"
            ]
          },
          "execution_count": 11,
          "metadata": {},
          "output_type": "execute_result"
        }
      ],
      "source": [
        "song_matrix.shape"
      ]
    },
    {
      "cell_type": "markdown",
      "id": "a3dbd4f5",
      "metadata": {
        "id": "a3dbd4f5"
      },
      "source": [
        "## Steps to build recommendation system - Type 1(for local library or small dataset)\n",
        "1. Consider recommending songs for the first user (row location 0 in user matrix)\n",
        "2. Find the euclidian distance between this first user and the remaining 999 users.\n",
        "3. Find out top 10 songs heard by nearest 5 users\n",
        "4. Recommend this 10 songs to the first users."
      ]
    },
    {
      "cell_type": "markdown",
      "id": "b22c6bb4",
      "metadata": {
        "id": "b22c6bb4"
      },
      "source": [
        "Calculating the distance between 2 users."
      ]
    },
    {
      "cell_type": "code",
      "execution_count": null,
      "id": "6cd49ad2",
      "metadata": {
        "id": "6cd49ad2"
      },
      "outputs": [],
      "source": [
        "def col_dist(u1,u2):\n",
        "    return pow(sum(pow(u1[x]-u2[x],2)for x in range(len(u1))),0.5)"
      ]
    },
    {
      "cell_type": "code",
      "execution_count": null,
      "id": "8045f222",
      "metadata": {
        "id": "8045f222",
        "outputId": "efebb66a-23d6-47f5-b034-84b387d7e494"
      },
      "outputs": [
        {
          "data": {
            "text/plain": [
              "17.066386601826405"
            ]
          },
          "execution_count": 13,
          "metadata": {},
          "output_type": "execute_result"
        }
      ],
      "source": [
        "col_dist(user_matrix[0], user_matrix[1])"
      ]
    },
    {
      "cell_type": "code",
      "execution_count": null,
      "id": "47ea32c7",
      "metadata": {
        "id": "47ea32c7"
      },
      "outputs": [],
      "source": []
    }
  ],
  "metadata": {
    "kernelspec": {
      "display_name": "Python 3 (ipykernel)",
      "language": "python",
      "name": "python3"
    },
    "language_info": {
      "codemirror_mode": {
        "name": "ipython",
        "version": 3
      },
      "file_extension": ".py",
      "mimetype": "text/x-python",
      "name": "python",
      "nbconvert_exporter": "python",
      "pygments_lexer": "ipython3",
      "version": "3.9.15"
    },
    "colab": {
      "provenance": [],
      "include_colab_link": true
    }
  },
  "nbformat": 4,
  "nbformat_minor": 5
}